{
 "cells": [
  {
   "cell_type": "markdown",
   "metadata": {
    "id": "3FhGRf-rZ-Td"
   },
   "source": [
    "# Sentiment Analysis of Financial News Headlines\n",
    "## This task tests your ability to apply NLP techniques you've learnt to classify a news headline containing financial information into either one of the sentiments (Positive, Negative or Neutral)"
   ]
  },
  {
   "cell_type": "markdown",
   "metadata": {
    "id": "BGCXmjn5Z-Tg"
   },
   "source": [
    "### Dataset:\n",
    "https://raw.githubusercontent.com/subashgandyer/datasets/main/financial_news_headlines_sentiment.csv"
   ]
  },
  {
   "cell_type": "markdown",
   "metadata": {
    "id": "TZ4UL4vBZ-Th"
   },
   "source": [
    "### Steps\n",
    "- 1. Download the dataset\n",
    "- 2. Load the dataset\n",
    "- 3. Explore the dataset (Exploratory Data Analysis)\n",
    "- 4. Clean the data\n",
    "- 5. Apply SMOTE for imbalanced data [Optional] --> Carries Bonus Marks\n",
    "- 6. Build a BoW model\n",
    "- 7. Build a Tf-Idf model\n",
    "- 8. Split train and test data\n",
    "- 9. Use one ML Classifying algorithm to classify the finanical news headline data\n",
    "- 10. Use another ML classifying algorithm to classify them\n",
    "- 11. Plot Confusion matrix"
   ]
  },
  {
   "cell_type": "markdown",
   "metadata": {
    "id": "sPNsA44gZ-Ti"
   },
   "source": [
    "## 1. Download the dataset [1 point]"
   ]
  },
  {
   "cell_type": "code",
   "execution_count": 2,
   "metadata": {
    "id": "QuR-ZX2KZ-Ti"
   },
   "outputs": [
    {
     "name": "stdout",
     "output_type": "stream",
     "text": [
      "Dataset downloaded successfully.\n"
     ]
    }
   ],
   "source": [
    "import pandas as pd\n",
    "import requests\n",
    "\n",
    "# URL of the dataset\n",
    "url = \"https://raw.githubusercontent.com/subashgandyer/datasets/main/financial_news_headlines_sentiment.csv\"\n",
    "\n",
    "# Send an HTTP request to get the content of the URL\n",
    "response = requests.get(url)\n",
    "\n",
    "# Save the content of the response to a file\n",
    "with open(\"financial_news_headlines_sentiment.csv\", \"wb\") as file:\n",
    "    file.write(response.content)\n",
    "\n",
    "print(\"Dataset downloaded successfully.\")\n"
   ]
  },
  {
   "cell_type": "markdown",
   "metadata": {
    "id": "xANAQQPMZ-Tj"
   },
   "source": [
    "## 2. Load the dataset [1 point]"
   ]
  },
  {
   "cell_type": "code",
   "execution_count": 3,
   "metadata": {
    "colab": {
     "base_uri": "https://localhost:8080/",
     "height": 206
    },
    "id": "R8B7KRZXZ-Tj",
    "outputId": "be0f1db6-f21b-463e-94cb-80b230f572be"
   },
   "outputs": [
    {
     "data": {
      "text/html": [
       "<div>\n",
       "<style scoped>\n",
       "    .dataframe tbody tr th:only-of-type {\n",
       "        vertical-align: middle;\n",
       "    }\n",
       "\n",
       "    .dataframe tbody tr th {\n",
       "        vertical-align: top;\n",
       "    }\n",
       "\n",
       "    .dataframe thead th {\n",
       "        text-align: right;\n",
       "    }\n",
       "</style>\n",
       "<table border=\"1\" class=\"dataframe\">\n",
       "  <thead>\n",
       "    <tr style=\"text-align: right;\">\n",
       "      <th></th>\n",
       "      <th>sentiment</th>\n",
       "      <th>headline</th>\n",
       "    </tr>\n",
       "  </thead>\n",
       "  <tbody>\n",
       "    <tr>\n",
       "      <th>0</th>\n",
       "      <td>neutral</td>\n",
       "      <td>According to Gran , the company has no plans t...</td>\n",
       "    </tr>\n",
       "    <tr>\n",
       "      <th>1</th>\n",
       "      <td>neutral</td>\n",
       "      <td>Technopolis plans to develop in stages an area...</td>\n",
       "    </tr>\n",
       "    <tr>\n",
       "      <th>2</th>\n",
       "      <td>negative</td>\n",
       "      <td>The international electronic industry company ...</td>\n",
       "    </tr>\n",
       "    <tr>\n",
       "      <th>3</th>\n",
       "      <td>positive</td>\n",
       "      <td>With the new production plant the company woul...</td>\n",
       "    </tr>\n",
       "    <tr>\n",
       "      <th>4</th>\n",
       "      <td>positive</td>\n",
       "      <td>According to the company 's updated strategy f...</td>\n",
       "    </tr>\n",
       "  </tbody>\n",
       "</table>\n",
       "</div>"
      ],
      "text/plain": [
       "  sentiment                                           headline\n",
       "0   neutral  According to Gran , the company has no plans t...\n",
       "1   neutral  Technopolis plans to develop in stages an area...\n",
       "2  negative  The international electronic industry company ...\n",
       "3  positive  With the new production plant the company woul...\n",
       "4  positive  According to the company 's updated strategy f..."
      ]
     },
     "execution_count": 3,
     "metadata": {},
     "output_type": "execute_result"
    }
   ],
   "source": [
    "\n",
    "df = pd.read_csv(url, encoding='latin1', header=None, names=['sentiment', 'headline'])\n",
    "\n",
    "df.head()"
   ]
  },
  {
   "cell_type": "markdown",
   "metadata": {
    "id": "w7nm2uxWZ-Tk"
   },
   "source": [
    "## 3. Explore the dataset [10 points]"
   ]
  },
  {
   "cell_type": "code",
   "execution_count": 4,
   "metadata": {
    "colab": {
     "base_uri": "https://localhost:8080/"
    },
    "id": "M_TEDSgdZ-Tk",
    "outputId": "15d54e12-f5b1-4ba8-a666-4c4da2209ce9"
   },
   "outputs": [
    {
     "name": "stdout",
     "output_type": "stream",
     "text": [
      "Exploratory Data Analysis:\n",
      "\n",
      "Shape of the dataset:\n",
      "(4846, 2)\n",
      "\n",
      "Data types of each column:\n",
      "sentiment    object\n",
      "headline     object\n",
      "dtype: object\n",
      "\n",
      "Descriptive statistics for numeric columns:\n",
      "       sentiment                                           headline\n",
      "count       4846                                               4846\n",
      "unique         3                                               4838\n",
      "top      neutral  TELECOMWORLDWIRE-7 April 2006-TJ Group Plc sel...\n",
      "freq        2879                                                  2\n",
      "\n",
      "Missing values:\n",
      "sentiment    0\n",
      "headline     0\n",
      "dtype: int64\n",
      "  sentiment                                           headline\n",
      "0   neutral  According to Gran , the company has no plans t...\n",
      "1   neutral  Technopolis plans to develop in stages an area...\n",
      "2  negative  The international electronic industry company ...\n",
      "3  positive  With the new production plant the company woul...\n",
      "4  positive  According to the company 's updated strategy f...\n",
      "<class 'pandas.core.frame.DataFrame'>\n",
      "RangeIndex: 4846 entries, 0 to 4845\n",
      "Data columns (total 2 columns):\n",
      " #   Column     Non-Null Count  Dtype \n",
      "---  ------     --------------  ----- \n",
      " 0   sentiment  4846 non-null   object\n",
      " 1   headline   4846 non-null   object\n",
      "dtypes: object(2)\n",
      "memory usage: 75.8+ KB\n",
      "None\n",
      "sentiment\n",
      "neutral     2879\n",
      "positive    1363\n",
      "negative     604\n",
      "Name: count, dtype: int64\n"
     ]
    }
   ],
   "source": [
    "print(\"Exploratory Data Analysis:\")\n",
    "\n",
    "# Display the shape of the dataset\n",
    "print(\"\\nShape of the dataset:\")\n",
    "print(df.shape)\n",
    "\n",
    "# Display the data types of each column\n",
    "print(\"\\nData types of each column:\")\n",
    "print(df.dtypes)\n",
    "\n",
    "# Display descriptive statistics for numeric columns\n",
    "print(\"\\nDescriptive statistics for numeric columns:\")\n",
    "print(df.describe())\n",
    "\n",
    "# Check for missing values\n",
    "print(\"\\nMissing values:\")\n",
    "print(df.isnull().sum())\n",
    "\n",
    "print(df.head())\n",
    "\n",
    "print(df.info())\n",
    "\n",
    "print(df['sentiment'].value_counts())"
   ]
  },
  {
   "cell_type": "markdown",
   "metadata": {
    "id": "3xfLXws0Z-Tl"
   },
   "source": [
    "## 4. Clean the data [5 points]"
   ]
  },
  {
   "cell_type": "code",
   "execution_count": 5,
   "metadata": {
    "id": "yI35CH-1Z-Tl"
   },
   "outputs": [],
   "source": [
    "import re\n",
    "import string\n",
    "\n",
    "def clean_text(text):\n",
    "    text = text.lower()  # Convert text to lowercase\n",
    "    text = re.sub('\\[.*?\\]', '', text)  # Remove text in square brackets\n",
    "    text = re.sub('[%s]' % re.escape(string.punctuation), '', text)  # Remove punctuation\n",
    "    text = re.sub('\\w*\\d\\w*', '', text)  # Remove words containing numbers\n",
    "    return text\n",
    "\n",
    "#remove duplicate rows\n",
    "df = df.drop_duplicates()\n",
    "\n",
    "\n",
    "df['headline_clean'] = df['headline'].apply(lambda x: clean_text(x))"
   ]
  },
  {
   "cell_type": "markdown",
   "metadata": {
    "id": "Eatg5U4sZ-Tl"
   },
   "source": [
    "## 5. SMOTE (Imbalanced dataset) [OPTIONAL] BONUS [20 points]\n",
    "Hint: Use **imblearn** library"
   ]
  },
  {
   "cell_type": "code",
   "execution_count": 8,
   "metadata": {
    "id": "iT86FGXIZ-Tl"
   },
   "outputs": [],
   "source": [
    "from imblearn.over_sampling import SMOTE\n",
    "\n",
    "\n",
    "# Before splitting the data, apply SMOTE to balance the dataset\n",
    "smote = SMOTE(random_state=42)\n",
    "X_smote, y_smote = smote.fit_resample(X_bow, df['sentiment'])"
   ]
  },
  {
   "cell_type": "markdown",
   "metadata": {
    "id": "eLFPCBCDZ-Tm"
   },
   "source": [
    "## 6. BoW model [15 points]"
   ]
  },
  {
   "cell_type": "code",
   "execution_count": 9,
   "metadata": {
    "id": "91VidcYsZ-Tm"
   },
   "outputs": [],
   "source": [
    "from sklearn.feature_extraction.text import CountVectorizer\n",
    "\n",
    "vectorizer = CountVectorizer()\n",
    "X_bow = vectorizer.fit_transform(df['headline_clean'])"
   ]
  },
  {
   "cell_type": "markdown",
   "metadata": {
    "id": "SSHyr8LyZ-Tm"
   },
   "source": [
    "## 7. Tf-idf model [15 points]"
   ]
  },
  {
   "cell_type": "code",
   "execution_count": 10,
   "metadata": {
    "id": "Oo9KD40WZ-Tn"
   },
   "outputs": [],
   "source": [
    "from sklearn.feature_extraction.text import TfidfVectorizer\n",
    "\n",
    "tfidf_vectorizer = TfidfVectorizer()\n",
    "X_tfidf = tfidf_vectorizer.fit_transform(df['headline_clean'])"
   ]
  },
  {
   "cell_type": "markdown",
   "metadata": {
    "id": "q4bEce9ZZ-Tn"
   },
   "source": [
    "## 8. Split train test data [3 points]"
   ]
  },
  {
   "cell_type": "code",
   "execution_count": 11,
   "metadata": {
    "id": "zT5La572Z-Tn"
   },
   "outputs": [],
   "source": [
    "from sklearn.model_selection import train_test_split\n",
    "\n",
    "X_train_bow, X_test_bow, y_train, y_test = train_test_split(X_bow, df['sentiment'], test_size=0.2, random_state=42)\n",
    "X_train_tfidf, X_test_tfidf, _, _ = train_test_split(X_tfidf, df['sentiment'], test_size=0.2, random_state=42)"
   ]
  },
  {
   "cell_type": "markdown",
   "metadata": {
    "id": "PtmrMZqFZ-Tn"
   },
   "source": [
    "## 9. Classification Algorithm [10 points]\n",
    "- Train\n",
    "- Predict"
   ]
  },
  {
   "cell_type": "code",
   "execution_count": 12,
   "metadata": {
    "colab": {
     "base_uri": "https://localhost:8080/"
    },
    "id": "2CMPUxOoZ-Tn",
    "outputId": "5a3e9e3d-5d3c-4774-acc7-b4bbde93a5c8"
   },
   "outputs": [
    {
     "name": "stdout",
     "output_type": "stream",
     "text": [
      "Naive Bayes Classifier with BoW:\n",
      "              precision    recall  f1-score   support\n",
      "\n",
      "    negative       0.74      0.53      0.62       118\n",
      "     neutral       0.79      0.87      0.82       563\n",
      "    positive       0.67      0.61      0.64       287\n",
      "\n",
      "    accuracy                           0.75       968\n",
      "   macro avg       0.73      0.67      0.69       968\n",
      "weighted avg       0.75      0.75      0.74       968\n",
      "\n"
     ]
    }
   ],
   "source": [
    "from sklearn.naive_bayes import MultinomialNB\n",
    "from sklearn.metrics import classification_report\n",
    "\n",
    "nb_classifier = MultinomialNB()\n",
    "nb_classifier.fit(X_train_bow, y_train)\n",
    "y_pred_nb_bow = nb_classifier.predict(X_test_bow)\n",
    "\n",
    "print(\"Naive Bayes Classifier with BoW:\")\n",
    "print(classification_report(y_test, y_pred_nb_bow))"
   ]
  },
  {
   "cell_type": "markdown",
   "metadata": {
    "id": "a6zvUH2TZ-To"
   },
   "source": [
    "## 10. Another Classification Algorithm [10 points]\n",
    "- Train\n",
    "- Predict"
   ]
  },
  {
   "cell_type": "code",
   "execution_count": 13,
   "metadata": {
    "colab": {
     "base_uri": "https://localhost:8080/"
    },
    "id": "wuD_dcjHZ-To",
    "outputId": "514926de-8ef9-49f3-fb9e-3e9de5865f7f"
   },
   "outputs": [
    {
     "name": "stdout",
     "output_type": "stream",
     "text": [
      "Logistic Regression Classifier with Tf-idf:\n",
      "              precision    recall  f1-score   support\n",
      "\n",
      "    negative       0.82      0.52      0.64       118\n",
      "     neutral       0.74      0.97      0.84       563\n",
      "    positive       0.87      0.47      0.61       287\n",
      "\n",
      "    accuracy                           0.77       968\n",
      "   macro avg       0.81      0.65      0.70       968\n",
      "weighted avg       0.79      0.77      0.75       968\n",
      "\n"
     ]
    }
   ],
   "source": [
    "from sklearn.linear_model import LogisticRegression\n",
    "\n",
    "lr_classifier = LogisticRegression(max_iter=1000)\n",
    "lr_classifier.fit(X_train_tfidf, y_train)\n",
    "y_pred_lr_tfidf = lr_classifier.predict(X_test_tfidf)\n",
    "\n",
    "print(\"Logistic Regression Classifier with Tf-idf:\")\n",
    "print(classification_report(y_test, y_pred_lr_tfidf))"
   ]
  },
  {
   "cell_type": "markdown",
   "metadata": {
    "id": "zuUvump8Z-To"
   },
   "source": [
    "## 11. Confusion Matrixes for two classification algorithms and two feature extractor methods [10 points]"
   ]
  },
  {
   "cell_type": "code",
   "execution_count": 14,
   "metadata": {
    "colab": {
     "base_uri": "https://localhost:8080/",
     "height": 803
    },
    "id": "n4QkpakXZ-To",
    "outputId": "26b69537-65e7-4630-cdb5-215b6df631d1"
   },
   "outputs": [
    {
     "data": {
      "image/png": "[encoded data removed]",
      "text/plain": [
       "<Figure size 600x400 with 2 Axes>"
      ]
     },
     "metadata": {},
     "output_type": "display_data"
    },
    {
     "data": {
      "image/png": "[encoded data removed]",
      "text/plain": [
       "<Figure size 600x400 with 2 Axes>"
      ]
     },
     "metadata": {},
     "output_type": "display_data"
    }
   ],
   "source": [
    "import matplotlib.pyplot as plt\n",
    "import seaborn as sns\n",
    "from sklearn.metrics import confusion_matrix\n",
    "\n",
    "def plot_confusion_matrix(y_true, y_pred, title):\n",
    "    cm = confusion_matrix(y_true, y_pred)\n",
    "    plt.figure(figsize=(6, 4))\n",
    "    sns.heatmap(cm, annot=True, cmap=\"Blues\", fmt=\"d\", xticklabels=['negative', 'neutral', 'positive'], yticklabels=['negative', 'neutral', 'positive'])\n",
    "    plt.xlabel('Predicted labels')\n",
    "    plt.ylabel('True labels')\n",
    "    plt.title(title)\n",
    "    plt.show()\n",
    "\n",
    "plot_confusion_matrix(y_test, y_pred_nb_bow, \"Naive Bayes Classifier with BoW\")\n",
    "plot_confusion_matrix(y_test, y_pred_lr_tfidf, \"Logistic Regression Classifier with Tf-idf\")"
   ]
  }
 ],
 "metadata": {
  "colab": {
   "provenance": []
  },
  "kernelspec": {
   "display_name": "Python 3 (ipykernel)",
   "language": "python",
   "name": "python3"
  },
  "language_info": {
   "codemirror_mode": {
    "name": "ipython",
    "version": 3
   },
   "file_extension": ".py",
   "mimetype": "text/x-python",
   "name": "python",
   "nbconvert_exporter": "python",
   "pygments_lexer": "ipython3",
   "version": "3.11.7"
  }
 },
 "nbformat": 4,
 "nbformat_minor": 4
}
